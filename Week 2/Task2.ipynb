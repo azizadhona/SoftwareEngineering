{
  "nbformat": 4,
  "nbformat_minor": 0,
  "metadata": {
    "colab": {
      "name": "Task2.ipynb",
      "provenance": []
    },
    "kernelspec": {
      "name": "python3",
      "display_name": "Python 3"
    },
    "language_info": {
      "name": "python"
    }
  },
  "cells": [
    {
      "cell_type": "code",
      "metadata": {
        "id": "nYrvtiSXAm3O"
      },
      "source": [
        "def Average (a,key):\n",
        "  return sum(a[key])/len(a[key])"
      ],
      "execution_count": 1,
      "outputs": []
    },
    {
      "cell_type": "code",
      "metadata": {
        "colab": {
          "base_uri": "https://localhost:8080/"
        },
        "id": "buhbnhnDAvjA",
        "outputId": "8ce8db82-c43c-462b-b09a-29ca0eaf7717"
      },
      "source": [
        "from statistics import mean\n",
        "nilai={}\n",
        "loop = int(input(\"How many students :\"))\n",
        "for i in range(loop):\n",
        "  name = str(input(\"Input nama murid {} : \".format(i+1)))\n",
        "  nilai[name] = [int(x) for x in input(\"Input 3 nilai (Dipisah pake space):\").split()]\n",
        "\n",
        "key = str(input(\"Murid yang ingin diliat rata-rata : \"))\n",
        "if key not in nilai.keys():\n",
        "  print(\"Maaf murid yang bernama {} tidak ada dalam database ini, mohon diulangi kembali.\".format(key))\n",
        "else:\n",
        "  print(\"{}'s average score with statistic library : {}\".format(key,round(mean(nilai[key]),2)))\n",
        "  print(\"{}'s average score with function          : {}\".format(key,round(Average(nilai,key),2)))"
      ],
      "execution_count": 2,
      "outputs": [
        {
          "output_type": "stream",
          "name": "stdout",
          "text": [
            "How many students :3\n",
            "Input nama murid 1 : Aziza\n",
            "Input 3 nilai (Dipisah pake space):90 80 70\n",
            "Input nama murid 2 : Awalya\n",
            "Input 3 nilai (Dipisah pake space):60 50 40\n",
            "Input nama murid 3 : Dhona\n",
            "Input 3 nilai (Dipisah pake space):40 60 80\n",
            "Murid yang ingin diliat rata-rata : Awalya\n",
            "Awalya's average score with statistic library : 50\n",
            "Awalya's average score with function          : 50.0\n"
          ]
        }
      ]
    },
    {
      "cell_type": "code",
      "metadata": {
        "id": "FdnSi54CAwBl"
      },
      "source": [
        ""
      ],
      "execution_count": null,
      "outputs": []
    }
  ]
}