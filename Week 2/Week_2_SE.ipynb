{
  "nbformat": 4,
  "nbformat_minor": 0,
  "metadata": {
    "colab": {
      "name": "Week 2 SE.ipynb",
      "provenance": [],
      "collapsed_sections": []
    },
    "kernelspec": {
      "name": "python3",
      "display_name": "Python 3"
    },
    "language_info": {
      "name": "python"
    }
  },
  "cells": [
    {
      "cell_type": "code",
      "metadata": {
        "id": "NYg7JFIJfQUZ"
      },
      "source": [
        "# List\n",
        "# Dictionary\n",
        "# Tuple\n",
        "# Looping\n",
        "# Function"
      ],
      "execution_count": null,
      "outputs": []
    },
    {
      "cell_type": "code",
      "metadata": {
        "id": "wxCu62hnfs1x",
        "colab": {
          "base_uri": "https://localhost:8080/"
        },
        "outputId": "32fac44c-34b9-4317-fd51-a1886f565a8b"
      },
      "source": [
        "# List\n",
        "contoh_list = [\"Aziza\",12,12.0, ['Awalya', 'Dhonaswara'], {},{},True]\n",
        "print(contoh_list[0])\n",
        "print(contoh_list[1])\n",
        "print(contoh_list[-1]) "
      ],
      "execution_count": 3,
      "outputs": [
        {
          "output_type": "stream",
          "name": "stdout",
          "text": [
            "Aziza\n",
            "12\n",
            "True\n"
          ]
        }
      ]
    },
    {
      "cell_type": "code",
      "metadata": {
        "colab": {
          "base_uri": "https://localhost:8080/"
        },
        "id": "xZDl3leyUliu",
        "outputId": "faa6c455-48fc-4697-d059-5df2654bb091"
      },
      "source": [
        "#Dictionary \n",
        "contoh_dict = {2:\"Aziza\", \"Tujuh\":7, False:12.0, 3.0:[\"Awalya\",\"Dhona\"], \"Dict\":{}, 333:(), \"Boolean\":True}\n",
        "print(contoh_dict[2])\n",
        "print(contoh_dict[\"Tujuh\"])\n",
        "print(contoh_dict[False])"
      ],
      "execution_count": 5,
      "outputs": [
        {
          "output_type": "stream",
          "name": "stdout",
          "text": [
            "Aziza\n",
            "7\n",
            "12.0\n"
          ]
        }
      ]
    },
    {
      "cell_type": "code",
      "metadata": {
        "colab": {
          "base_uri": "https://localhost:8080/"
        },
        "id": "4rvbeKFOVMMb",
        "outputId": "75988e43-201a-4c22-b473-e401036ad760"
      },
      "source": [
        "#contoh method di dict : .keys()\n",
        "contoh_dict.keys()"
      ],
      "execution_count": 6,
      "outputs": [
        {
          "output_type": "execute_result",
          "data": {
            "text/plain": [
              "dict_keys([2, 'Tujuh', False, 3.0, 'Dict', 333, 'Boolean'])"
            ]
          },
          "metadata": {},
          "execution_count": 6
        }
      ]
    },
    {
      "cell_type": "code",
      "metadata": {
        "id": "r_QoVxGvVagS"
      },
      "source": [
        "#Contoh method di list\n",
        "list1 = [3,1,2,4,5,6]"
      ],
      "execution_count": 18,
      "outputs": []
    },
    {
      "cell_type": "code",
      "metadata": {
        "colab": {
          "base_uri": "https://localhost:8080/"
        },
        "id": "lCo3QBvqVoSZ",
        "outputId": "8b903295-f02b-465f-ab21-56ac2cd873b2"
      },
      "source": [
        "list1.append(\"Aziza\")\n",
        "list1"
      ],
      "execution_count": 9,
      "outputs": [
        {
          "output_type": "execute_result",
          "data": {
            "text/plain": [
              "[3, 1, 2, 4, 5, 6, 'Aziza']"
            ]
          },
          "metadata": {},
          "execution_count": 9
        }
      ]
    },
    {
      "cell_type": "code",
      "metadata": {
        "colab": {
          "base_uri": "https://localhost:8080/"
        },
        "id": "EwgaeAEhVy-J",
        "outputId": "adc6cf6e-da1a-4abb-dbc7-a2aedcd2a3f7"
      },
      "source": [
        "list1.insert(4, \"Awalya\")\n",
        "list1"
      ],
      "execution_count": 10,
      "outputs": [
        {
          "output_type": "execute_result",
          "data": {
            "text/plain": [
              "[3, 1, 2, 4, 'Awalya', 5, 6, 'Aziza']"
            ]
          },
          "metadata": {},
          "execution_count": 10
        }
      ]
    },
    {
      "cell_type": "code",
      "metadata": {
        "colab": {
          "base_uri": "https://localhost:8080/"
        },
        "id": "b5bfJOPfV9Hv",
        "outputId": "26bf4b2d-a8c8-42bb-aaa1-f8f134f6e847"
      },
      "source": [
        "list_angka = [1,4,7,9,0]\n",
        "list_angka.sort()\n",
        "list_angka"
      ],
      "execution_count": 11,
      "outputs": [
        {
          "output_type": "execute_result",
          "data": {
            "text/plain": [
              "[0, 1, 4, 7, 9]"
            ]
          },
          "metadata": {},
          "execution_count": 11
        }
      ]
    },
    {
      "cell_type": "code",
      "metadata": {
        "colab": {
          "base_uri": "https://localhost:8080/"
        },
        "id": "tayXydlSWL_z",
        "outputId": "f86f68e7-2dab-4f20-87ef-3e7bff047b38"
      },
      "source": [
        "list_angka.sort(reverse=True)\n",
        "list_angka"
      ],
      "execution_count": 12,
      "outputs": [
        {
          "output_type": "execute_result",
          "data": {
            "text/plain": [
              "[9, 7, 4, 1, 0]"
            ]
          },
          "metadata": {},
          "execution_count": 12
        }
      ]
    },
    {
      "cell_type": "code",
      "metadata": {
        "colab": {
          "base_uri": "https://localhost:8080/"
        },
        "id": "4g7-E1CXWWb4",
        "outputId": "100c071d-d01b-490a-ced7-bfc9c56af00e"
      },
      "source": [
        "list_angka.pop()\n",
        "list_angka"
      ],
      "execution_count": 14,
      "outputs": [
        {
          "output_type": "execute_result",
          "data": {
            "text/plain": [
              "[9, 7, 4, 1]"
            ]
          },
          "metadata": {},
          "execution_count": 14
        }
      ]
    },
    {
      "cell_type": "code",
      "metadata": {
        "colab": {
          "base_uri": "https://localhost:8080/"
        },
        "id": "iB-gvNN2Wlo_",
        "outputId": "8a81a7e7-828e-4474-fe51-f5ac136a9f71"
      },
      "source": [
        "list_angka.remove(7)\n",
        "list_angka"
      ],
      "execution_count": 15,
      "outputs": [
        {
          "output_type": "execute_result",
          "data": {
            "text/plain": [
              "[9, 4, 1]"
            ]
          },
          "metadata": {},
          "execution_count": 15
        }
      ]
    },
    {
      "cell_type": "code",
      "metadata": {
        "colab": {
          "base_uri": "https://localhost:8080/"
        },
        "id": "3Uil6toJWykR",
        "outputId": "5e20da69-0644-4733-91e1-a6413d4c264d"
      },
      "source": [
        "#looping\n",
        "for i in range(10):\n",
        "  print('Halo')"
      ],
      "execution_count": 16,
      "outputs": [
        {
          "output_type": "stream",
          "name": "stdout",
          "text": [
            "Halo\n",
            "Halo\n",
            "Halo\n",
            "Halo\n",
            "Halo\n",
            "Halo\n",
            "Halo\n",
            "Halo\n",
            "Halo\n",
            "Halo\n"
          ]
        }
      ]
    },
    {
      "cell_type": "code",
      "metadata": {
        "colab": {
          "base_uri": "https://localhost:8080/"
        },
        "id": "lJKrC2a7XK2f",
        "outputId": "56c4af52-bde4-42eb-acdb-cad6e76ddedf"
      },
      "source": [
        "for i in range(10):\n",
        "  print(i)"
      ],
      "execution_count": 17,
      "outputs": [
        {
          "output_type": "stream",
          "name": "stdout",
          "text": [
            "0\n",
            "1\n",
            "2\n",
            "3\n",
            "4\n",
            "5\n",
            "6\n",
            "7\n",
            "8\n",
            "9\n"
          ]
        }
      ]
    },
    {
      "cell_type": "code",
      "metadata": {
        "colab": {
          "base_uri": "https://localhost:8080/"
        },
        "id": "ZyqZ-h4GXy4g",
        "outputId": "98f1575d-9e5e-40ff-f57d-15f7d70789cf"
      },
      "source": [
        "#Set\n",
        "list_angka = [9,7,4,1,7]\n",
        "list_angka"
      ],
      "execution_count": 19,
      "outputs": [
        {
          "output_type": "execute_result",
          "data": {
            "text/plain": [
              "[9, 7, 4, 1, 7]"
            ]
          },
          "metadata": {},
          "execution_count": 19
        }
      ]
    },
    {
      "cell_type": "code",
      "metadata": {
        "colab": {
          "base_uri": "https://localhost:8080/"
        },
        "id": "IOWxdU09YBey",
        "outputId": "a2b10e30-0f72-4778-fccc-9dd57be78e66"
      },
      "source": [
        "set_angka = set(list_angka)\n",
        "set_angka"
      ],
      "execution_count": 20,
      "outputs": [
        {
          "output_type": "execute_result",
          "data": {
            "text/plain": [
              "{1, 4, 7, 9}"
            ]
          },
          "metadata": {},
          "execution_count": 20
        }
      ]
    },
    {
      "cell_type": "code",
      "metadata": {
        "colab": {
          "base_uri": "https://localhost:8080/"
        },
        "id": "7p9824b5YK5B",
        "outputId": "8af2ef35-7e61-4cff-9224-d1dc8b0d5b64"
      },
      "source": [
        "list_angka = list(set_angka)\n",
        "list_angka"
      ],
      "execution_count": 21,
      "outputs": [
        {
          "output_type": "execute_result",
          "data": {
            "text/plain": [
              "[9, 4, 1, 7]"
            ]
          },
          "metadata": {},
          "execution_count": 21
        }
      ]
    }
  ]
}