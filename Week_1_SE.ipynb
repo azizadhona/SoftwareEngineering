{
  "nbformat": 4,
  "nbformat_minor": 0,
  "metadata": {
    "colab": {
      "name": "Week 1 SE.ipynb",
      "provenance": [],
      "collapsed_sections": []
    },
    "kernelspec": {
      "name": "python3",
      "display_name": "Python 3"
    },
    "language_info": {
      "name": "python"
    }
  },
  "cells": [
    {
      "cell_type": "code",
      "metadata": {
        "id": "Yyi9BL_SczC_"
      },
      "source": [
        "#variable\n",
        "\n",
        "a = 10 #interger\n",
        "b = 3.14 #float desimal\n",
        "c = \"A\" #string\n",
        "d = \"Aziza\"\n",
        "e = \"Software Engineer\"\n",
        "f = 'A'\n",
        "g = 'Aziza'\n",
        "h = 'Software Engineer'\n",
        "i = True #Boolean\n",
        "j = False #Boolean\n",
        "k = [] #List\n",
        "l = [1,2,3] #List\n",
        "m = {} # Dictionary\n",
        "n = () # Tuple\n"
      ],
      "execution_count": 1,
      "outputs": []
    },
    {
      "cell_type": "code",
      "metadata": {
        "colab": {
          "base_uri": "https://localhost:8080/"
        },
        "id": "dKX04D_GdFFK",
        "outputId": "f7cc3efb-2788-470a-9fe6-fa4fba6439b4"
      },
      "source": [
        "print(c)"
      ],
      "execution_count": 2,
      "outputs": [
        {
          "output_type": "stream",
          "name": "stdout",
          "text": [
            "A\n"
          ]
        }
      ]
    },
    {
      "cell_type": "code",
      "metadata": {
        "colab": {
          "base_uri": "https://localhost:8080/"
        },
        "id": "y6tw4W3rx5SB",
        "outputId": "eb2ba5a5-7cf9-42eb-8259-8c7cef8c2bd1"
      },
      "source": [
        "print(2+2*7)"
      ],
      "execution_count": 3,
      "outputs": [
        {
          "output_type": "stream",
          "name": "stdout",
          "text": [
            "16\n"
          ]
        }
      ]
    },
    {
      "cell_type": "code",
      "metadata": {
        "id": "D-NC7YS5yREN"
      },
      "source": [
        "nama = \"Aziza\"\n",
        "rumah = \"indo\"\n",
        "umur = 10"
      ],
      "execution_count": 4,
      "outputs": []
    },
    {
      "cell_type": "code",
      "metadata": {
        "colab": {
          "base_uri": "https://localhost:8080/"
        },
        "id": "PUM1HLMgyco1",
        "outputId": "9812f5e5-39ca-49f6-852d-1e8849f26439"
      },
      "source": [
        "nama = input()"
      ],
      "execution_count": 5,
      "outputs": [
        {
          "name": "stdout",
          "output_type": "stream",
          "text": [
            "aziza\n"
          ]
        }
      ]
    },
    {
      "cell_type": "code",
      "metadata": {
        "colab": {
          "base_uri": "https://localhost:8080/"
        },
        "id": "VkmNq2SZyvRU",
        "outputId": "ee51d96c-f9a2-4b73-eb55-f0f68a3044a5"
      },
      "source": [
        "#concatination\n",
        "print(\"Hai nama ku adalah \" +nama) \n",
        "print(\"Hai nama ku adalah {}\".format(nama))\n",
        "print(\"Hai nama ku adalah {}\".format(\"Aziza\"))"
      ],
      "execution_count": 6,
      "outputs": [
        {
          "output_type": "stream",
          "name": "stdout",
          "text": [
            "Hai nama ku adalah aziza\n",
            "Hai nama ku adalah aziza\n",
            "Hai nama ku adalah Aziza\n"
          ]
        }
      ]
    },
    {
      "cell_type": "code",
      "metadata": {
        "colab": {
          "base_uri": "https://localhost:8080/"
        },
        "id": "UgF-ypsUzGHF",
        "outputId": "739c89ad-99ae-4118-cf2e-fa9fa7103197"
      },
      "source": [
        "print(\"Hai namaku adalah \" + nama +\", umurku \" + str(umur) +\", rumahku di \" + rumah)\n",
        "print(\"Hai namaku adalah {}, umurku {}, rumahku di {}\".format(nama,umur,rumah))\n"
      ],
      "execution_count": 10,
      "outputs": [
        {
          "output_type": "stream",
          "name": "stdout",
          "text": [
            "Hai namaku adalah aziza, umurku 10, rumahku di indo\n",
            "Hai namaku adalah aziza, umurku 10, rumahku di indo\n"
          ]
        }
      ]
    },
    {
      "cell_type": "code",
      "metadata": {
        "colab": {
          "base_uri": "https://localhost:8080/"
        },
        "id": "EXLq05eH0GkF",
        "outputId": "51a4abd0-22ed-443e-e105-389edcb0275d"
      },
      "source": [
        "nama = input()"
      ],
      "execution_count": 11,
      "outputs": [
        {
          "name": "stdout",
          "output_type": "stream",
          "text": [
            "Awalya\n"
          ]
        }
      ]
    },
    {
      "cell_type": "code",
      "metadata": {
        "colab": {
          "base_uri": "https://localhost:8080/"
        },
        "id": "4UOfejsO0TOT",
        "outputId": "5e900d0a-cc2e-4d2a-f81e-82c733f0419b"
      },
      "source": [
        "print(\"Hai, namaku adalah \" + nama + \", umurku \" + str(umur))\n",
        "print(\"Hai, namaku adalah \", nama ,\", umurku \", umur)\n",
        "print(\"Hai, namaku adalah {}, umurku {}, saya berasal dari {}\".format(nama, umur, rumah))\n",
        "print(\"nama {}, umur {}\".format(nama,umur))"
      ],
      "execution_count": 20,
      "outputs": [
        {
          "output_type": "stream",
          "name": "stdout",
          "text": [
            "Hai, namaku adalah Awalya, umurku 10\n",
            "Hai, namaku adalah  Awalya , umurku  10\n",
            "Hai, namaku adalah Awalya, umurku 10, saya berasal dari indo\n",
            "nama Awalya, umur 10\n"
          ]
        }
      ]
    },
    {
      "cell_type": "code",
      "metadata": {
        "colab": {
          "base_uri": "https://localhost:8080/"
        },
        "id": "ExMUKyvwgTbD",
        "outputId": "411d6699-9ef3-460f-a4f9-f4ef159bf358"
      },
      "source": [
        "import math\n",
        "a = 10\n",
        "b = 10\n",
        "# if else\n",
        "\n",
        "## Conditional Statement\n",
        "\n",
        "a == b # Jika nilai a sama dengan b\n",
        "a != b # Jika nilai a tidak sama dengan b\n",
        "a < b\n",
        "a <= b\n",
        "a > b\n",
        "a >= b\n",
        "True and True \n",
        "False or False\n",
        "\n",
        "## Operator\n",
        "a + b\n",
        "a - b\n",
        "a * b\n",
        "a / b # 10 / 10 = 1.0 --> Float Division\n",
        "a // b # 10 // 10 = 1 --> Integer Division\n",
        "a ** b # 10^10 = 100\n",
        "a % b # Modulus\n",
        "a ** (1/2) # akar variable a, dimana a = 10\n",
        "math.sqrt(a) # akar variabel a\n",
        "math.sin(a)\n",
        "math.tan(a)\n",
        "math.cos(a)\n",
        "math.tanh(a)\n",
        "math.sinh(a)\n",
        "math.cosh(a)\n",
        "math.log(a)"
      ],
      "execution_count": 16,
      "outputs": [
        {
          "output_type": "execute_result",
          "data": {
            "text/plain": [
              "2.302585092994046"
            ]
          },
          "metadata": {},
          "execution_count": 16
        }
      ]
    },
    {
      "cell_type": "code",
      "metadata": {
        "colab": {
          "base_uri": "https://localhost:8080/"
        },
        "id": "SJikSG_vmIjK",
        "outputId": "5f44f83d-da45-4478-b994-69a28b9caf8f"
      },
      "source": [
        "if a == 10:\n",
        " print(\"a sama dengan 10\")\n",
        "elif a > 10:\n",
        "  print(\"a lebih dari 10\")\n",
        "else:\n",
        "  print(\"a kurang dari 10\")\n",
        "print(\"ini diluar if\")"
      ],
      "execution_count": 17,
      "outputs": [
        {
          "output_type": "stream",
          "name": "stdout",
          "text": [
            "a sama dengan 10\n",
            "ini diluar if\n"
          ]
        }
      ]
    }
  ]
}