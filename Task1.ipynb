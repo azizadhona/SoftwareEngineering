{
  "nbformat": 4,
  "nbformat_minor": 0,
  "metadata": {
    "colab": {
      "name": "Task1.ipynb",
      "provenance": [],
      "collapsed_sections": []
    },
    "kernelspec": {
      "name": "python3",
      "display_name": "Python 3"
    },
    "language_info": {
      "name": "python"
    }
  },
  "cells": [
    {
      "cell_type": "code",
      "metadata": {
        "colab": {
          "base_uri": "https://localhost:8080/"
        },
        "id": "f5WkAzwKD4Mp",
        "outputId": "0b317b81-8d6b-4767-97b0-a988f82a8cee"
      },
      "source": [
        "a = (1,2,3,4,5,1.5,2.3, False)\n",
        "b = (1.5,2.3,3.6,4.7,5.9,1,2,3,4, True)\n",
        "print(a)\n",
        "print(b)"
      ],
      "execution_count": null,
      "outputs": [
        {
          "output_type": "stream",
          "name": "stdout",
          "text": [
            "(1, 2, 3, 4, 5, 1.5, 2.3, False)\n",
            "(1.5, 2.3, 3.6, 4.7, 5.9, 1, 2, 3, 4, True)\n"
          ]
        }
      ]
    }
  ]
}